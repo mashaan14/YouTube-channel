{
  "nbformat": 4,
  "nbformat_minor": 0,
  "metadata": {
    "colab": {
      "provenance": [],
      "authorship_tag": "ABX9TyOwx8AMe8oewgN4i1Zj/rAG",
      "include_colab_link": true
    },
    "kernelspec": {
      "name": "python3",
      "display_name": "Python 3"
    },
    "language_info": {
      "name": "python"
    }
  },
  "cells": [
    {
      "cell_type": "markdown",
      "metadata": {
        "id": "view-in-github",
        "colab_type": "text"
      },
      "source": [
        "<a href=\"https://colab.research.google.com/github/mashaan14/YouTube-channel/blob/main/2023_11_02_covariance_in_diffusion.ipynb\" target=\"_parent\"><img src=\"https://colab.research.google.com/assets/colab-badge.svg\" alt=\"Open In Colab\"/></a>"
      ]
    },
    {
      "cell_type": "code",
      "execution_count": null,
      "metadata": {
        "id": "81yulrp-9DkA"
      },
      "outputs": [],
      "source": [
        "import numpy as np\n",
        "import matplotlib.pyplot as plt\n",
        "from scipy.stats import multivariate_normal"
      ]
    },
    {
      "cell_type": "code",
      "source": [
        "mu_all = np.array([[-.09,.09], [-.06,.06], [-.01,.01], [0,0]])\n",
        "sigma_all = np.array([[[7., 6.], [5., 6.]], [[5., 2.], [2., 4.]], [[3., 1.5], [1.5, 2.]], [[1., 0.], [0., 1.]]])"
      ],
      "metadata": {
        "id": "YjYbB596dpPi"
      },
      "execution_count": null,
      "outputs": []
    },
    {
      "cell_type": "code",
      "source": [
        "sigma_all[0,:,:]"
      ],
      "metadata": {
        "colab": {
          "base_uri": "https://localhost:8080/"
        },
        "id": "CxagLSNSehpo",
        "outputId": "420ca84a-a759-4448-e7e1-df04fa438380"
      },
      "execution_count": null,
      "outputs": [
        {
          "output_type": "execute_result",
          "data": {
            "text/plain": [
              "array([[7., 6.],\n",
              "       [5., 6.]])"
            ]
          },
          "metadata": {},
          "execution_count": 3
        }
      ]
    },
    {
      "cell_type": "code",
      "source": [
        "x, y = np.mgrid[-1:1:.01, -1:1:.01]\n",
        "for i in range(4):\n",
        "  rv = multivariate_normal(mu_all[i,:], sigma_all[i,:,:])\n",
        "  data = np.dstack((x, y))\n",
        "  z = rv.pdf(data)\n",
        "  plt.contourf(x, y, z, cmap='coolwarm')\n",
        "  plt.tick_params(axis='both',which='both',bottom=False,top=False,left=False,right=False,\n",
        "                labelbottom=False,labeltop=False,labelleft=False,labelright=False);\n",
        "  # plt.show()\n",
        "  plt.savefig('data'+str(i)+'.png', bbox_inches='tight', dpi=600)"
      ],
      "metadata": {
        "colab": {
          "base_uri": "https://localhost:8080/",
          "height": 406
        },
        "id": "7igXKV9IcciK",
        "outputId": "82e67386-9dd1-49da-fa97-95a5d5c59faa"
      },
      "execution_count": null,
      "outputs": [
        {
          "output_type": "display_data",
          "data": {
            "text/plain": [
              "<Figure size 640x480 with 1 Axes>"
            ],
            "image/png": "[encoded data removed]"
          },
          "metadata": {}
        }
      ]
    },
    {
      "cell_type": "code",
      "source": [
        "from PIL import Image\n",
        "import numpy as np\n",
        "from skimage.util import random_noise\n",
        "\n",
        "im = Image.open(\"113044.jpg\")\n",
        "# convert PIL Image to ndarray\n",
        "im_arr = np.asarray(im)\n",
        "\n",
        "# random_noise() method will convert image in [0, 255] to [0, 1.0],\n",
        "# inherently it use np.random.normal() to create normal distribution\n",
        "# and adds the generated noised back to image\n",
        "noise_img = random_noise(im_arr, mode='gaussian', var=1**2)\n",
        "noise_img = (255*noise_img).astype(np.uint8)\n",
        "\n",
        "img = Image.fromarray(noise_img)\n",
        "img.save(\"113044-noise.jpg\")\n",
        "img.show()"
      ],
      "metadata": {
        "id": "bdWWtqaLhNyw"
      },
      "execution_count": null,
      "outputs": []
    }
  ]
}