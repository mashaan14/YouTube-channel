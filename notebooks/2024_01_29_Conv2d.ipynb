{
  "nbformat": 4,
  "nbformat_minor": 0,
  "metadata": {
    "colab": {
      "provenance": [],
      "authorship_tag": "ABX9TyNqCCaMiOnZZMd6TSGeu5i0",
      "include_colab_link": true
    },
    "kernelspec": {
      "name": "python3",
      "display_name": "Python 3"
    },
    "language_info": {
      "name": "python"
    }
  },
  "cells": [
    {
      "cell_type": "markdown",
      "metadata": {
        "id": "view-in-github",
        "colab_type": "text"
      },
      "source": [
        "<a href=\"https://colab.research.google.com/github/mashaan14/YouTube-channel/blob/main/notebooks/2024_01_29_Conv2d.ipynb\" target=\"_parent\"><img src=\"https://colab.research.google.com/assets/colab-badge.svg\" alt=\"Open In Colab\"/></a>"
      ]
    },
    {
      "cell_type": "code",
      "execution_count": null,
      "metadata": {
        "id": "ZdJvEABBDySi"
      },
      "outputs": [],
      "source": [
        "# Standard libraries\n",
        "import numpy as np\n",
        "\n",
        "# Plotting libraries\n",
        "import matplotlib.pyplot as plt\n",
        "import seaborn as sns\n",
        "import pandas as pd\n",
        "\n",
        "# torch\n",
        "import torch\n",
        "import torch.nn as nn\n",
        "\n",
        "# torchvision\n",
        "import torchvision\n",
        "import torchvision.transforms as transforms"
      ]
    },
    {
      "cell_type": "code",
      "source": [
        "torch.manual_seed(0)\n",
        "plt.style.use('dark_background')"
      ],
      "metadata": {
        "id": "E5FgpA8gm5Q6"
      },
      "execution_count": null,
      "outputs": []
    },
    {
      "cell_type": "code",
      "source": [
        "classes = ('plane', 'car', 'bird', 'cat', 'deer', 'dog', 'frog', 'horse', 'ship', 'truck')\n",
        "\n",
        "# set the preprocess operations to be performed on train/val/test samples\n",
        "transform = transforms.Compose([transforms.ToTensor(), transforms.Normalize((0.5, 0.5, 0.5), (0.5, 0.5, 0.5))])\n",
        "transform_unnormalized = transforms.Compose([transforms.ToTensor()])\n",
        "\n",
        "# download CIFAR10 test set\n",
        "test_set = torchvision.datasets.CIFAR10(root='./data', train=False, download=True, transform=transform)\n",
        "test_loader = torch.utils.data.DataLoader(dataset=test_set, batch_size=32, shuffle=False)\n",
        "\n",
        "test_set_unnormalized = torchvision.datasets.CIFAR10(root='./data', train=False, download=False, transform=transform_unnormalized)\n",
        "test_loader_unnormalized = torch.utils.data.DataLoader(dataset=test_set_unnormalized, batch_size=32, shuffle=False)\n",
        "\n",
        "# getting the first sample from the test dataset\n",
        "# dataiter = iter(test_loader)\n",
        "# CIFAR10_example_image, CIFAR10_example_label = next(dataiter)\n",
        "\n",
        "CIFAR10_example_image = next(iter(test_loader))[0][0]\n",
        "CIFAR10_example_image_unnormalized = next(iter(test_loader_unnormalized))[0][10]\n",
        "\n",
        "# display image and the label\n",
        "# print(classes[CIFAR10_example_label.item()])\n",
        "# plt.imshow(CIFAR10_example_image.squeeze().permute(1, 2, 0))\n",
        "plt.imshow(transforms.ToPILImage()(CIFAR10_example_image_unnormalized))\n",
        "plt.axis(\"off\")\n",
        "plt.show()"
      ],
      "metadata": {
        "colab": {
          "base_uri": "https://localhost:8080/",
          "height": 424
        },
        "id": "lLQj7VRj2fxk",
        "outputId": "c8abf2fd-c0c5-4699-c23f-83040da8ead1"
      },
      "execution_count": null,
      "outputs": [
        {
          "output_type": "stream",
          "name": "stdout",
          "text": [
            "Files already downloaded and verified\n"
          ]
        },
        {
          "output_type": "display_data",
          "data": {
            "text/plain": [
              "<Figure size 640x480 with 1 Axes>"
            ],
            "image/png": "[encoded data removed]"
          },
          "metadata": {}
        }
      ]
    },
    {
      "cell_type": "code",
      "source": [
        "in_channels   = 3\n",
        "out_channels  = 1\n",
        "img_size      = [32,32]\n",
        "kernel_size   = [5,5]"
      ],
      "metadata": {
        "id": "hXIgsDg_sjVT"
      },
      "execution_count": null,
      "outputs": []
    },
    {
      "cell_type": "code",
      "source": [
        "# using the shape formula in:\n",
        "# https://pytorch.org/docs/stable/generated/torch.nn.Conv2d.html\n",
        "\n",
        "height_out = np.floor(((img_size[0]\n",
        "                   + 2 * 0\n",
        "                   - 1 * (kernel_size[0] - 1)\n",
        "                   - 1) / 1) + 1).astype(int)\n",
        "\n",
        "width_out = np.floor(((img_size[1]\n",
        "                   + 2 * 0\n",
        "                   - 1 * (kernel_size[1] - 1)\n",
        "                   - 1) / 1) + 1).astype(int)"
      ],
      "metadata": {
        "id": "Cnm9pNRatA1W"
      },
      "execution_count": null,
      "outputs": []
    },
    {
      "cell_type": "code",
      "source": [
        "m = nn.Conv2d(in_channels, out_channels, 5)"
      ],
      "metadata": {
        "id": "GgYj73m4EKR2"
      },
      "execution_count": null,
      "outputs": []
    },
    {
      "cell_type": "code",
      "source": [
        "m.weight"
      ],
      "metadata": {
        "colab": {
          "base_uri": "https://localhost:8080/"
        },
        "id": "mFnP7D-QEeck",
        "outputId": "21863005-45a2-4705-ad2c-ca7a3f050c3b"
      },
      "execution_count": null,
      "outputs": [
        {
          "output_type": "execute_result",
          "data": {
            "text/plain": [
              "Parameter containing:\n",
              "tensor([[[[-0.0445,  0.0310, -0.0023,  0.0916, -0.0102],\n",
              "          [ 0.0306, -0.0349, -0.0227, -0.1103, -0.0765],\n",
              "          [-0.0476,  0.0043,  0.0456,  0.0693, -0.0783],\n",
              "          [-0.0503,  0.0419,  0.0959, -0.0238,  0.0864],\n",
              "          [-0.0186,  0.0122,  0.1046, -0.1071, -0.0727]],\n",
              "\n",
              "         [[-0.0292, -0.0450,  0.0998, -0.0748, -0.0532],\n",
              "          [-0.0807, -0.1081, -0.0674,  0.0993,  0.0515],\n",
              "          [ 0.0560,  0.0061, -0.0592,  0.0195, -0.1078],\n",
              "          [-0.0834, -0.0595,  0.0729,  0.0677, -0.0512],\n",
              "          [-0.0042,  0.0739,  0.1148,  0.0458,  0.0156]],\n",
              "\n",
              "         [[ 0.0774, -0.0680,  0.0215, -0.0895, -0.0800],\n",
              "          [-0.0596,  0.0522,  0.0464, -0.0684,  0.0349],\n",
              "          [ 0.0634, -0.0146,  0.0044,  0.0268,  0.0716],\n",
              "          [ 0.1109, -0.0890, -0.0423,  0.0454,  0.0957],\n",
              "          [ 0.1005,  0.1019,  0.0230, -0.1004,  0.0106]]]], requires_grad=True)"
            ]
          },
          "metadata": {},
          "execution_count": 51
        }
      ]
    },
    {
      "cell_type": "code",
      "source": [
        "input = CIFAR10_example_image.unsqueeze(0)\n",
        "Conv2d_output = m(input)"
      ],
      "metadata": {
        "id": "_Xc8dVgglYvn"
      },
      "execution_count": null,
      "outputs": []
    },
    {
      "cell_type": "code",
      "source": [
        "w = m.weight\n",
        "b = m.bias\n",
        "inp_unf = torch.nn.functional.unfold(input, kernel_size)"
      ],
      "metadata": {
        "id": "7HqgdVWAsqB2"
      },
      "execution_count": null,
      "outputs": []
    },
    {
      "cell_type": "code",
      "source": [
        "out_unf = inp_unf.transpose(1, 2).matmul(w.view(w.size(0), -1).t()).transpose(1, 2) + b"
      ],
      "metadata": {
        "id": "s7gOt9iGmYYI"
      },
      "execution_count": null,
      "outputs": []
    },
    {
      "cell_type": "code",
      "source": [
        "im2col_output = out_unf.view(1, 1, height_out, width_out)"
      ],
      "metadata": {
        "id": "O73dpIVfssMq"
      },
      "execution_count": null,
      "outputs": []
    },
    {
      "cell_type": "code",
      "source": [
        "print('w.shape = '+str(w.shape))\n",
        "print('inp_unf.shape = '+str(inp_unf.shape))\n",
        "print('out_unf.shape = '+str(out_unf.shape))\n",
        "print('out.shape = '+str(im2col_output.shape))"
      ],
      "metadata": {
        "colab": {
          "base_uri": "https://localhost:8080/"
        },
        "id": "KLdd5znvsHDW",
        "outputId": "7461b3b2-393b-41b2-bd80-c28ed929a80d"
      },
      "execution_count": null,
      "outputs": [
        {
          "output_type": "stream",
          "name": "stdout",
          "text": [
            "w.shape = torch.Size([1, 3, 5, 5])\n",
            "inp_unf.shape = torch.Size([1, 75, 784])\n",
            "out_unf.shape = torch.Size([1, 1, 784])\n",
            "out.shape = torch.Size([1, 1, 28, 28])\n"
          ]
        }
      ]
    },
    {
      "cell_type": "code",
      "source": [
        "(Conv2d_output - im2col_output).abs().max()"
      ],
      "metadata": {
        "colab": {
          "base_uri": "https://localhost:8080/"
        },
        "id": "Lcs7DKU_rEaK",
        "outputId": "c16ce7f8-b96c-42ab-d3d9-a1dcc58a8c00"
      },
      "execution_count": null,
      "outputs": [
        {
          "output_type": "execute_result",
          "data": {
            "text/plain": [
              "tensor(1.4901e-07, grad_fn=<MaxBackward1>)"
            ]
          },
          "metadata": {},
          "execution_count": 57
        }
      ]
    },
    {
      "cell_type": "code",
      "source": [
        "fig, (ax1, ax2) = plt.subplots(1, 2, figsize=(12, 6))\n",
        "\n",
        "ax1.imshow(Conv2d_output.squeeze().detach().numpy())\n",
        "ax1.set_title('Conv2d output')\n",
        "ax1.axis(\"off\")\n",
        "\n",
        "ax2.imshow(im2col_output.squeeze().detach().numpy())\n",
        "ax2.set_title('im2col output')\n",
        "ax2.axis(\"off\")\n",
        "\n",
        "plt.show()"
      ],
      "metadata": {
        "colab": {
          "base_uri": "https://localhost:8080/",
          "height": 482
        },
        "id": "RiLgdkZq3HYv",
        "outputId": "3c650828-fb1a-407b-f43d-24b88ff515c2"
      },
      "execution_count": null,
      "outputs": [
        {
          "output_type": "display_data",
          "data": {
            "text/plain": [
              "<Figure size 1200x600 with 2 Axes>"
            ],
            "image/png": "[encoded data removed]"
          },
          "metadata": {}
        }
      ]
    }
  ]
}