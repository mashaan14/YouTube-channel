{
  "cells": [
    {
      "cell_type": "markdown",
      "metadata": {
        "colab_type": "text",
        "id": "view-in-github"
      },
      "source": [
        "<a href=\"https://colab.research.google.com/github/mashaan14/YouTube-channel/blob/main/2023_11_12_graph_Laplacian.ipynb\" target=\"_parent\"><img src=\"https://colab.research.google.com/assets/colab-badge.svg\" alt=\"Open In Colab\"/></a>"
      ]
    },
    {
      "cell_type": "markdown",
      "metadata": {},
      "source": [
        "# Spectral Clustering\n",
        "\n",
        "## YouTube:\n",
        "I explained this notebook in a [YouTube video](https://youtu.be/k7M1TMYac-Y).\n",
        "\n",
        "## References:\n",
        "```bibtex\n",
        "@inproceedings{NIPS2001_801272ee,\n",
        "  author    = {Ng, Andrew and Jordan, Michael and Weiss, Yair},\n",
        "  booktitle = {Advances in Neural Information Processing Systems},\n",
        "  title     = {On Spectral Clustering: Analysis and an algorithm},\n",
        "  year      = {2001}\n",
        "}\n",
        "```\n",
        "\n",
        "```bibtex\n",
        "@misc{vonluxburg2007tutorial,\n",
        "  title         = {A Tutorial on Spectral Clustering},\n",
        "  author        = {Ulrike von Luxburg},\n",
        "  year          = {2007},\n",
        "  eprint        = {0711.0189},\n",
        "  archivePrefix = {arXiv},\n",
        "  primaryClass  = {cs.DS}\n",
        "}\n",
        "```"
      ]
    },
    {
      "cell_type": "code",
      "execution_count": null,
      "metadata": {
        "id": "q3XaUpqOUoIP"
      },
      "outputs": [],
      "source": [
        "import numpy as np\n",
        "import matplotlib.pyplot as plt\n",
        "import networkx as nx\n",
        "\n",
        "from sklearn.neighbors import kneighbors_graph\n",
        "from scipy.spatial import distance"
      ]
    },
    {
      "cell_type": "code",
      "execution_count": null,
      "metadata": {
        "id": "yOnF7XLmaKjl"
      },
      "outputs": [],
      "source": [
        "features_cluster1 = np.array([\n",
        "    [-0.32463899, -0.23100812],\n",
        "    [ 0.13121718, -0.37920586],\n",
        "    [ 0.13854759,  0.37837102],\n",
        "    [-0.32047612,  0.22657314],\n",
        "    [ 0.42269755, -0.01454366]])\n",
        "features_cluster2 = np.array([\n",
        "    [-3.0, 3.0],\n",
        "    [-2.5, 2.5],\n",
        "    [-3.2, 2.55]])\n",
        "\n",
        "features = np.vstack((features_cluster1, features_cluster2))"
      ]
    },
    {
      "cell_type": "code",
      "execution_count": null,
      "metadata": {
        "colab": {
          "base_uri": "https://localhost:8080/",
          "height": 759
        },
        "id": "XEUvU3uHaWRQ",
        "outputId": "164262c9-0f9f-402e-a0c7-3c699684ed98"
      },
      "outputs": [
        {
          "data": {
            "text/plain": [
              "{(0, 1): Text(-0.09671090500000001, -0.30510699, '1.0'),\n",
              " (0, 2): Text(-0.09304570000000001, 0.07368145, '1.0'),\n",
              " (0, 3): Text(-0.322557555, -0.0022174900000000025, '1.0'),\n",
              " (0, 4): Text(0.04902927999999998, -0.12277589, '1.0'),\n",
              " (1, 3): Text(-0.09462947, -0.07631636, '1.0'),\n",
              " (1, 4): Text(0.276957365, -0.19687476, '1.0'),\n",
              " (1, 2): Text(0.134882385, -0.0004174200000000017, '1.0'),\n",
              " (2, 3): Text(-0.09096426499999999, 0.30247208000000003, '1.0'),\n",
              " (2, 4): Text(0.28062257, 0.18191368, '1.0'),\n",
              " (3, 5): Text(-1.66023806, 1.61328657, '1.0'),\n",
              " (3, 6): Text(-1.41023806, 1.36328657, '1.0'),\n",
              " (3, 7): Text(-1.76023806, 1.38828657, '1.0'),\n",
              " (5, 6): Text(-2.75, 2.75, '1.0'),\n",
              " (5, 7): Text(-3.1, 2.775, '1.0'),\n",
              " (6, 7): Text(-2.85, 2.525, '1.0')}"
            ]
          },
          "execution_count": 5,
          "metadata": {},
          "output_type": "execute_result"
        },
        {
          "data": {
            "image/png": "[encoded data removed]",
            "text/plain": [
              "<Figure size 600x600 with 1 Axes>"
            ]
          },
          "metadata": {},
          "output_type": "display_data"
        }
      ],
      "source": [
        "# start knn adj matrix ---------------------------------------\n",
        "g = kneighbors_graph(features, 3)\n",
        "g = np.array(g.todense(), dtype=np.float32)\n",
        "# end knn adj matrix ----------------------------------------\n",
        "\n",
        "# plot adj_mods -------\n",
        "fig = plt.figure(figsize=(6, 6))\n",
        "ax = fig.add_subplot(111)\n",
        "G = nx.from_numpy_array(g)\n",
        "\n",
        "nx.draw_networkx_nodes(G, features,\n",
        "                    nodelist=[0, 1, 2, 3, 4],\n",
        "                    node_color='#1f77b4', # '#000000',\n",
        "                    node_size=50,\n",
        "                    alpha=1.0)\n",
        "nx.draw_networkx_nodes(G, features,\n",
        "                    nodelist=[5, 6, 7],\n",
        "                    node_color='#ff7f0e', # '#000000',\n",
        "                    node_size=50,\n",
        "                    alpha=1.0)\n",
        "nx.draw_networkx_edges(G, features, width=1.0, alpha=0.5)\n",
        "labels = nx.get_edge_attributes(G, 'weight')\n",
        "nx.draw_networkx_edge_labels(G, features, edge_labels=labels, font_size=6)"
      ]
    },
    {
      "cell_type": "code",
      "execution_count": null,
      "metadata": {
        "colab": {
          "base_uri": "https://localhost:8080/"
        },
        "id": "sunK93-CaoCn",
        "outputId": "dac9c870-2b43-4eae-c187-22aebe3134cd"
      },
      "outputs": [
        {
          "data": {
            "text/plain": [
              "array([[0., 1., 1., 1., 0., 0., 0., 0.],\n",
              "       [1., 0., 0., 1., 1., 0., 0., 0.],\n",
              "       [0., 1., 0., 1., 1., 0., 0., 0.],\n",
              "       [1., 1., 1., 0., 0., 0., 0., 0.],\n",
              "       [1., 1., 1., 0., 0., 0., 0., 0.],\n",
              "       [0., 0., 0., 1., 0., 0., 1., 1.],\n",
              "       [0., 0., 0., 1., 0., 1., 0., 1.],\n",
              "       [0., 0., 0., 1., 0., 1., 1., 0.]], dtype=float32)"
            ]
          },
          "execution_count": 7,
          "metadata": {},
          "output_type": "execute_result"
        }
      ],
      "source": [
        "g"
      ]
    },
    {
      "cell_type": "code",
      "execution_count": null,
      "metadata": {
        "id": "aYnfOFC3a0r8"
      },
      "outputs": [],
      "source": [
        "g1 = np.array([[0., 1., 0., 0., 1., 0., 0., 0.],\n",
        "                [1., 0., 1., 0., 0., 0., 0., 0.],\n",
        "                [0., 1., 0., 1., 0., 0., 0., 0.],\n",
        "                [0., 0., 1., 0., 1., 0., 0., 0.],\n",
        "                [1., 0., 0., 1., 0., 0., 0., 0.],\n",
        "                [0., 0., 0., 0., 0., 0., 1., 1.],\n",
        "                [0., 0., 0., 0., 0., 1., 0., 1.],\n",
        "                [0., 0., 0., 0., 0., 1., 1., 0.]])"
      ]
    },
    {
      "cell_type": "code",
      "execution_count": null,
      "metadata": {
        "colab": {
          "base_uri": "https://localhost:8080/",
          "height": 638
        },
        "id": "GewvyJ1JbBP-",
        "outputId": "c80d2c8b-8b78-41be-8b86-7bf18350dbe4"
      },
      "outputs": [
        {
          "data": {
            "text/plain": [
              "{(0, 1): Text(-0.09671090500000001, -0.30510699, '1.0'),\n",
              " (0, 4): Text(0.04902927999999998, -0.12277589, '1.0'),\n",
              " (1, 2): Text(0.134882385, -0.0004174200000000017, '1.0'),\n",
              " (2, 3): Text(-0.09096426499999999, 0.30247208000000003, '1.0'),\n",
              " (3, 4): Text(0.051110715, 0.10601474, '1.0'),\n",
              " (5, 6): Text(-2.75, 2.75, '1.0'),\n",
              " (5, 7): Text(-3.1, 2.775, '1.0'),\n",
              " (6, 7): Text(-2.85, 2.525, '1.0')}"
            ]
          },
          "execution_count": 19,
          "metadata": {},
          "output_type": "execute_result"
        },
        {
          "data": {
            "image/png": "[encoded data removed]",
            "text/plain": [
              "<Figure size 600x600 with 1 Axes>"
            ]
          },
          "metadata": {},
          "output_type": "display_data"
        }
      ],
      "source": [
        "# plot adj_mods -------\n",
        "fig = plt.figure(figsize=(6, 6))\n",
        "ax = fig.add_subplot(111)\n",
        "G = nx.from_numpy_array(g1)\n",
        "\n",
        "nx.draw_networkx_nodes(G, features,\n",
        "                    nodelist=[0, 1, 2, 3, 4],\n",
        "                    node_color='#1f77b4', # '#000000',\n",
        "                    node_size=50,\n",
        "                    alpha=1.0)\n",
        "nx.draw_networkx_nodes(G, features,\n",
        "                    nodelist=[5, 6, 7],\n",
        "                    node_color='#ff7f0e', # '#000000',\n",
        "                    node_size=50,\n",
        "                    alpha=1.0)\n",
        "nx.draw_networkx_edges(G, features, width=1.0, alpha=0.5)\n",
        "labels = nx.get_edge_attributes(G, 'weight')\n",
        "nx.draw_networkx_edge_labels(G, features, edge_labels=labels, font_size=6)"
      ]
    },
    {
      "cell_type": "code",
      "execution_count": null,
      "metadata": {
        "colab": {
          "base_uri": "https://localhost:8080/",
          "height": 454
        },
        "id": "4q0YSknfbP8q",
        "outputId": "0203066c-abc2-4690-c3bd-b2d86b4f108c"
      },
      "outputs": [
        {
          "data": {
            "text/plain": [
              "<matplotlib.image.AxesImage at 0x7b860a13a920>"
            ]
          },
          "execution_count": 21,
          "metadata": {},
          "output_type": "execute_result"
        },
        {
          "data": {
            "image/png": "[encoded data removed]",
            "text/plain": [
              "<Figure size 480x480 with 1 Axes>"
            ]
          },
          "metadata": {},
          "output_type": "display_data"
        }
      ],
      "source": [
        "A = g1\n",
        "# identity matrix\n",
        "I = np.zeros_like(A)\n",
        "np.fill_diagonal(I, 1)\n",
        "\n",
        "# degree matrix\n",
        "D = np.zeros_like(A)\n",
        "np.fill_diagonal(D, np.sum(A,axis=1))\n",
        "D_inv_sqrt = np.linalg.inv(np.sqrt(D))\n",
        "\n",
        "L = I - np.dot(D_inv_sqrt, A).dot(D_inv_sqrt)\n",
        "plt.matshow(L)"
      ]
    },
    {
      "cell_type": "code",
      "execution_count": null,
      "metadata": {
        "colab": {
          "base_uri": "https://localhost:8080/"
        },
        "id": "ae0xvjPefBVW",
        "outputId": "8e9f070a-0199-4fea-a50b-7b3f977813bc"
      },
      "outputs": [
        {
          "data": {
            "text/plain": [
              "array([[ 1. , -0.5,  0. ,  0. , -0.5,  0. ,  0. ,  0. ],\n",
              "       [-0.5,  1. , -0.5,  0. ,  0. ,  0. ,  0. ,  0. ],\n",
              "       [ 0. , -0.5,  1. , -0.5,  0. ,  0. ,  0. ,  0. ],\n",
              "       [ 0. ,  0. , -0.5,  1. , -0.5,  0. ,  0. ,  0. ],\n",
              "       [-0.5,  0. ,  0. , -0.5,  1. ,  0. ,  0. ,  0. ],\n",
              "       [ 0. ,  0. ,  0. ,  0. ,  0. ,  1. , -0.5, -0.5],\n",
              "       [ 0. ,  0. ,  0. ,  0. ,  0. , -0.5,  1. , -0.5],\n",
              "       [ 0. ,  0. ,  0. ,  0. ,  0. , -0.5, -0.5,  1. ]])"
            ]
          },
          "execution_count": 22,
          "metadata": {},
          "output_type": "execute_result"
        }
      ],
      "source": [
        "L"
      ]
    },
    {
      "cell_type": "code",
      "execution_count": null,
      "metadata": {
        "id": "8erJZf8BfUOG"
      },
      "outputs": [],
      "source": [
        "eigenvalues, eigenvectors = np.linalg.eig(L)\n",
        "eigenvalues = eigenvalues.real\n",
        "eigenvectors = eigenvectors.real\n",
        "# Order the eigenvectors in a decreasing order based on the magnitude of their corresponding eigenvalues\n",
        "eigenvectors_sorted = eigenvectors[:,eigenvalues.argsort()]"
      ]
    },
    {
      "cell_type": "code",
      "execution_count": null,
      "metadata": {
        "colab": {
          "base_uri": "https://localhost:8080/",
          "height": 499
        },
        "id": "mfTayX6QfX8a",
        "outputId": "43175471-60e5-475d-d931-f5107c715d89"
      },
      "outputs": [
        {
          "data": {
            "image/png": "[encoded data removed]",
            "text/plain": [
              "<Figure size 600x600 with 1 Axes>"
            ]
          },
          "metadata": {},
          "output_type": "display_data"
        }
      ],
      "source": [
        "fig = plt.figure(figsize=(6, 6))\n",
        "plt.scatter(eigenvectors_sorted[:,0], eigenvectors_sorted[:,1]);\n",
        "plt.tick_params(axis='both',which='both',bottom=False,top=False,left=False,right=False,\n",
        "                labelbottom=False,labeltop=False,labelleft=False,labelright=False);\n",
        "plt.savefig('X_transformed.png', bbox_inches='tight', dpi=600)"
      ]
    },
    {
      "cell_type": "code",
      "execution_count": null,
      "metadata": {
        "colab": {
          "base_uri": "https://localhost:8080/",
          "height": 454
        },
        "id": "Azht0bchfhl1",
        "outputId": "e7d6951f-4724-4b8a-bd5c-11432998a14c"
      },
      "outputs": [
        {
          "data": {
            "text/plain": [
              "<matplotlib.image.AxesImage at 0x7b860a041480>"
            ]
          },
          "execution_count": 26,
          "metadata": {},
          "output_type": "execute_result"
        },
        {
          "data": {
            "image/png": "[encoded data removed]",
            "text/plain": [
              "<Figure size 480x480 with 1 Axes>"
            ]
          },
          "metadata": {},
          "output_type": "display_data"
        }
      ],
      "source": [
        "plt.matshow(eigenvectors_sorted)"
      ]
    }
  ],
  "metadata": {
    "colab": {
      "authorship_tag": "ABX9TyPI5B43OVYDEy7RIw0F30LP",
      "include_colab_link": true,
      "provenance": []
    },
    "kernelspec": {
      "display_name": "Python 3",
      "name": "python3"
    },
    "language_info": {
      "name": "python"
    }
  },
  "nbformat": 4,
  "nbformat_minor": 0
}
