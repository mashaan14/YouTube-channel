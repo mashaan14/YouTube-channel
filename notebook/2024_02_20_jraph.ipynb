{
  "cells": [
    {
      "cell_type": "markdown",
      "metadata": {
        "id": "view-in-github",
        "colab_type": "text"
      },
      "source": [
        "<a href=\"https://colab.research.google.com/github/mashaan14/YouTube-channel/blob/main/notebook/2024_02_20_jraph.ipynb\" target=\"_parent\"><img src=\"https://colab.research.google.com/assets/colab-badge.svg\" alt=\"Open In Colab\"/></a>"
      ]
    },
    {
      "cell_type": "markdown",
      "source": [
        "# Graph Convolutional Network (GCN) in PyTorch-Geometric and Jraph\n",
        "\n",
        "## <font color='red'>Disclaimer</font>\n",
        "<font color='red'>The results I'm getting on CORA test set are not consistent for PyTorch-Geometric and Jraph (check the last two cells). So, please don't use this code in production. </font>\n",
        "\n",
        "## Acknowledgment:\n",
        "I borrowed some code from [pytorch-geometric tutorials](https://pytorch-geometric.readthedocs.io/en/latest/get_started/colabs.html) and [Interactive Jraph Colabs](https://github.com/google-deepmind/educational/blob/master/colabs/summer_schools/intro_to_graph_nets_tutorial_with_jraph.ipynb)\n",
        "\n",
        "## References:\n",
        "```bibtex\n",
        "@inproceedings{Fey/Lenssen/2019,\n",
        "  title={Fast Graph Representation Learning with {PyTorch Geometric}},\n",
        "  author={Fey, Matthias and Lenssen, Jan E.},\n",
        "  booktitle={ICLR Workshop on Representation Learning on Graphs and Manifolds},\n",
        "  year={2019},\n",
        "}\n",
        "```\n",
        "\n",
        "```bibtex\n",
        "@software{jraph2020github,\n",
        "  author = {Jonathan Godwin* and Thomas Keck* and Peter Battaglia and Victor Bapst and Thomas Kipf and Yujia Li and Kimberly Stachenfeld and Petar Veli\\v{c}kovi\\'{c} and Alvaro Sanchez-Gonzalez},\n",
        "  title = {{J}raph: {A} library for graph neural networks in jax.},\n",
        "  url = {http://github.com/deepmind/jraph},\n",
        "  version = {0.0.1.dev},\n",
        "  year = {2020},\n",
        "}\n",
        "```"
      ],
      "metadata": {
        "id": "gAIUyIdeVL3U"
      }
    },
    {
      "cell_type": "markdown",
      "source": [
        "## Install Dependencies"
      ],
      "metadata": {
        "id": "qYez0LCOZjzg"
      }
    },
    {
      "cell_type": "code",
      "execution_count": null,
      "metadata": {
        "colab": {
          "base_uri": "https://localhost:8080/"
        },
        "id": "b9Na5MD45tCQ",
        "outputId": "36e0a221-813f-40fc-a150-c797de4ad84f"
      },
      "outputs": [
        {
          "output_type": "stream",
          "name": "stdout",
          "text": [
            "  Installing build dependencies ... \u001b[?25l\u001b[?25hdone\n",
            "  Getting requirements to build wheel ... \u001b[?25l\u001b[?25hdone\n",
            "  Preparing metadata (pyproject.toml) ... \u001b[?25l\u001b[?25hdone\n",
            "Collecting git+https://github.com/deepmind/jraph.git\n",
            "  Cloning https://github.com/deepmind/jraph.git to /tmp/pip-req-build-5g86d13n\n",
            "  Running command git clone --filter=blob:none --quiet https://github.com/deepmind/jraph.git /tmp/pip-req-build-5g86d13n\n",
            "  Resolved https://github.com/deepmind/jraph.git to commit 51f5990104f7374492f8f3ea1cbc47feb411c69c\n",
            "  Preparing metadata (setup.py) ... \u001b[?25l\u001b[?25hdone\n",
            "Requirement already satisfied: jax>=0.1.55 in /usr/local/lib/python3.10/dist-packages (from jraph==0.0.6.dev0) (0.4.23)\n",
            "Requirement already satisfied: jaxlib>=0.1.37 in /usr/local/lib/python3.10/dist-packages (from jraph==0.0.6.dev0) (0.4.23+cuda12.cudnn89)\n",
            "Requirement already satisfied: numpy>=1.18.0 in /usr/local/lib/python3.10/dist-packages (from jraph==0.0.6.dev0) (1.25.2)\n",
            "Requirement already satisfied: ml-dtypes>=0.2.0 in /usr/local/lib/python3.10/dist-packages (from jax>=0.1.55->jraph==0.0.6.dev0) (0.2.0)\n",
            "Requirement already satisfied: opt-einsum in /usr/local/lib/python3.10/dist-packages (from jax>=0.1.55->jraph==0.0.6.dev0) (3.3.0)\n",
            "Requirement already satisfied: scipy>=1.9 in /usr/local/lib/python3.10/dist-packages (from jax>=0.1.55->jraph==0.0.6.dev0) (1.11.4)\n",
            "Requirement already satisfied: flax in /usr/local/lib/python3.10/dist-packages (0.8.1)\n",
            "Requirement already satisfied: numpy>=1.22 in /usr/local/lib/python3.10/dist-packages (from flax) (1.25.2)\n",
            "Requirement already satisfied: jax>=0.4.19 in /usr/local/lib/python3.10/dist-packages (from flax) (0.4.23)\n",
            "Requirement already satisfied: msgpack in /usr/local/lib/python3.10/dist-packages (from flax) (1.0.7)\n",
            "Requirement already satisfied: optax in /usr/local/lib/python3.10/dist-packages (from flax) (0.1.9)\n",
            "Requirement already satisfied: orbax-checkpoint in /usr/local/lib/python3.10/dist-packages (from flax) (0.4.4)\n",
            "Requirement already satisfied: tensorstore in /usr/local/lib/python3.10/dist-packages (from flax) (0.1.45)\n",
            "Requirement already satisfied: rich>=11.1 in /usr/local/lib/python3.10/dist-packages (from flax) (13.7.0)\n",
            "Requirement already satisfied: typing-extensions>=4.2 in /usr/local/lib/python3.10/dist-packages (from flax) (4.9.0)\n",
            "Requirement already satisfied: PyYAML>=5.4.1 in /usr/local/lib/python3.10/dist-packages (from flax) (6.0.1)\n",
            "Requirement already satisfied: ml-dtypes>=0.2.0 in /usr/local/lib/python3.10/dist-packages (from jax>=0.4.19->flax) (0.2.0)\n",
            "Requirement already satisfied: opt-einsum in /usr/local/lib/python3.10/dist-packages (from jax>=0.4.19->flax) (3.3.0)\n",
            "Requirement already satisfied: scipy>=1.9 in /usr/local/lib/python3.10/dist-packages (from jax>=0.4.19->flax) (1.11.4)\n",
            "Requirement already satisfied: markdown-it-py>=2.2.0 in /usr/local/lib/python3.10/dist-packages (from rich>=11.1->flax) (3.0.0)\n",
            "Requirement already satisfied: pygments<3.0.0,>=2.13.0 in /usr/local/lib/python3.10/dist-packages (from rich>=11.1->flax) (2.16.1)\n",
            "Requirement already satisfied: absl-py>=0.7.1 in /usr/local/lib/python3.10/dist-packages (from optax->flax) (1.4.0)\n",
            "Requirement already satisfied: chex>=0.1.7 in /usr/local/lib/python3.10/dist-packages (from optax->flax) (0.1.85)\n",
            "Requirement already satisfied: jaxlib>=0.1.37 in /usr/local/lib/python3.10/dist-packages (from optax->flax) (0.4.23+cuda12.cudnn89)\n",
            "Requirement already satisfied: etils[epath,epy] in /usr/local/lib/python3.10/dist-packages (from orbax-checkpoint->flax) (1.6.0)\n",
            "Requirement already satisfied: nest_asyncio in /usr/local/lib/python3.10/dist-packages (from orbax-checkpoint->flax) (1.6.0)\n",
            "Requirement already satisfied: protobuf in /usr/local/lib/python3.10/dist-packages (from orbax-checkpoint->flax) (3.20.3)\n",
            "Requirement already satisfied: toolz>=0.9.0 in /usr/local/lib/python3.10/dist-packages (from chex>=0.1.7->optax->flax) (0.12.1)\n",
            "Requirement already satisfied: mdurl~=0.1 in /usr/local/lib/python3.10/dist-packages (from markdown-it-py>=2.2.0->rich>=11.1->flax) (0.1.2)\n",
            "Requirement already satisfied: fsspec in /usr/local/lib/python3.10/dist-packages (from etils[epath,epy]->orbax-checkpoint->flax) (2023.6.0)\n",
            "Requirement already satisfied: importlib_resources in /usr/local/lib/python3.10/dist-packages (from etils[epath,epy]->orbax-checkpoint->flax) (6.1.1)\n",
            "Requirement already satisfied: zipp in /usr/local/lib/python3.10/dist-packages (from etils[epath,epy]->orbax-checkpoint->flax) (3.17.0)\n",
            "Requirement already satisfied: dm-haiku in /usr/local/lib/python3.10/dist-packages (0.0.11)\n",
            "Requirement already satisfied: absl-py>=0.7.1 in /usr/local/lib/python3.10/dist-packages (from dm-haiku) (1.4.0)\n",
            "Requirement already satisfied: jmp>=0.0.2 in /usr/local/lib/python3.10/dist-packages (from dm-haiku) (0.0.4)\n",
            "Requirement already satisfied: numpy>=1.18.0 in /usr/local/lib/python3.10/dist-packages (from dm-haiku) (1.25.2)\n",
            "Requirement already satisfied: tabulate>=0.8.9 in /usr/local/lib/python3.10/dist-packages (from dm-haiku) (0.9.0)\n",
            "Requirement already satisfied: flax>=0.7.1 in /usr/local/lib/python3.10/dist-packages (from dm-haiku) (0.8.1)\n",
            "Requirement already satisfied: jax>=0.4.19 in /usr/local/lib/python3.10/dist-packages (from flax>=0.7.1->dm-haiku) (0.4.23)\n",
            "Requirement already satisfied: msgpack in /usr/local/lib/python3.10/dist-packages (from flax>=0.7.1->dm-haiku) (1.0.7)\n",
            "Requirement already satisfied: optax in /usr/local/lib/python3.10/dist-packages (from flax>=0.7.1->dm-haiku) (0.1.9)\n",
            "Requirement already satisfied: orbax-checkpoint in /usr/local/lib/python3.10/dist-packages (from flax>=0.7.1->dm-haiku) (0.4.4)\n",
            "Requirement already satisfied: tensorstore in /usr/local/lib/python3.10/dist-packages (from flax>=0.7.1->dm-haiku) (0.1.45)\n",
            "Requirement already satisfied: rich>=11.1 in /usr/local/lib/python3.10/dist-packages (from flax>=0.7.1->dm-haiku) (13.7.0)\n",
            "Requirement already satisfied: typing-extensions>=4.2 in /usr/local/lib/python3.10/dist-packages (from flax>=0.7.1->dm-haiku) (4.9.0)\n",
            "Requirement already satisfied: PyYAML>=5.4.1 in /usr/local/lib/python3.10/dist-packages (from flax>=0.7.1->dm-haiku) (6.0.1)\n",
            "Requirement already satisfied: ml-dtypes>=0.2.0 in /usr/local/lib/python3.10/dist-packages (from jax>=0.4.19->flax>=0.7.1->dm-haiku) (0.2.0)\n",
            "Requirement already satisfied: opt-einsum in /usr/local/lib/python3.10/dist-packages (from jax>=0.4.19->flax>=0.7.1->dm-haiku) (3.3.0)\n",
            "Requirement already satisfied: scipy>=1.9 in /usr/local/lib/python3.10/dist-packages (from jax>=0.4.19->flax>=0.7.1->dm-haiku) (1.11.4)\n",
            "Requirement already satisfied: markdown-it-py>=2.2.0 in /usr/local/lib/python3.10/dist-packages (from rich>=11.1->flax>=0.7.1->dm-haiku) (3.0.0)\n",
            "Requirement already satisfied: pygments<3.0.0,>=2.13.0 in /usr/local/lib/python3.10/dist-packages (from rich>=11.1->flax>=0.7.1->dm-haiku) (2.16.1)\n",
            "Requirement already satisfied: chex>=0.1.7 in /usr/local/lib/python3.10/dist-packages (from optax->flax>=0.7.1->dm-haiku) (0.1.85)\n",
            "Requirement already satisfied: jaxlib>=0.1.37 in /usr/local/lib/python3.10/dist-packages (from optax->flax>=0.7.1->dm-haiku) (0.4.23+cuda12.cudnn89)\n",
            "Requirement already satisfied: etils[epath,epy] in /usr/local/lib/python3.10/dist-packages (from orbax-checkpoint->flax>=0.7.1->dm-haiku) (1.6.0)\n",
            "Requirement already satisfied: nest_asyncio in /usr/local/lib/python3.10/dist-packages (from orbax-checkpoint->flax>=0.7.1->dm-haiku) (1.6.0)\n",
            "Requirement already satisfied: protobuf in /usr/local/lib/python3.10/dist-packages (from orbax-checkpoint->flax>=0.7.1->dm-haiku) (3.20.3)\n",
            "Requirement already satisfied: toolz>=0.9.0 in /usr/local/lib/python3.10/dist-packages (from chex>=0.1.7->optax->flax>=0.7.1->dm-haiku) (0.12.1)\n",
            "Requirement already satisfied: mdurl~=0.1 in /usr/local/lib/python3.10/dist-packages (from markdown-it-py>=2.2.0->rich>=11.1->flax>=0.7.1->dm-haiku) (0.1.2)\n",
            "Requirement already satisfied: fsspec in /usr/local/lib/python3.10/dist-packages (from etils[epath,epy]->orbax-checkpoint->flax>=0.7.1->dm-haiku) (2023.6.0)\n",
            "Requirement already satisfied: importlib_resources in /usr/local/lib/python3.10/dist-packages (from etils[epath,epy]->orbax-checkpoint->flax>=0.7.1->dm-haiku) (6.1.1)\n",
            "Requirement already satisfied: zipp in /usr/local/lib/python3.10/dist-packages (from etils[epath,epy]->orbax-checkpoint->flax>=0.7.1->dm-haiku) (3.17.0)\n"
          ]
        }
      ],
      "source": [
        "# install pytorch_geometric\n",
        "!pip install -q git+https://github.com/pyg-team/pytorch_geometric.git\n",
        "\n",
        "# install jraph and jax dependencies\n",
        "!pip install git+https://github.com/deepmind/jraph.git\n",
        "!pip install flax\n",
        "!pip install dm-haiku"
      ]
    },
    {
      "cell_type": "markdown",
      "source": [
        "## Import libraries"
      ],
      "metadata": {
        "id": "0Y2IGAzNZotP"
      }
    },
    {
      "cell_type": "code",
      "execution_count": null,
      "metadata": {
        "id": "HVCKA4-P5hLH"
      },
      "outputs": [],
      "source": [
        "# Standard libraries\n",
        "import numpy as np\n",
        "from scipy import sparse\n",
        "import seaborn as sns\n",
        "import pandas as pd\n",
        "\n",
        "# Plotting libraries\n",
        "import matplotlib.pyplot as plt\n",
        "import networkx as nx\n",
        "from matplotlib import cm\n",
        "from IPython.display import Javascript  # Restrict height of output cell.\n",
        "\n",
        "# PyTorch\n",
        "import torch\n",
        "import torch.nn.functional as F\n",
        "from torch.nn import Linear\n",
        "\n",
        "# PyTorch geometric\n",
        "from torch_geometric.utils import from_scipy_sparse_matrix\n",
        "from torch_geometric.nn import GCNConv\n",
        "from torch_geometric.datasets import (Planetoid, KarateClub)\n",
        "from torch_geometric.transforms import NormalizeFeatures\n",
        "from torch_geometric.data import Data\n",
        "from torch_geometric import seed_everything\n",
        "\n",
        "# jax\n",
        "import jax\n",
        "import jax.numpy as jnp\n",
        "import jax.tree_util as tree\n",
        "import flax\n",
        "import haiku as hk\n",
        "import optax\n",
        "import pickle\n",
        "from typing import Any, Callable, Dict, List, Optional, Tuple\n",
        "\n",
        "# jraph\n",
        "import jraph\n",
        "from jraph._src import models as jraph_models"
      ]
    },
    {
      "cell_type": "code",
      "execution_count": null,
      "metadata": {
        "id": "D9UU9ZzGY9cw"
      },
      "outputs": [],
      "source": [
        "random_seed = 42\n",
        "torch.manual_seed(1234567)\n",
        "seed_everything(42)\n",
        "plt.style.use('dark_background')\n",
        "accuracy_list = []\n",
        "num_epochs = 101"
      ]
    },
    {
      "cell_type": "markdown",
      "source": [
        "## Karate Club Dataset\n",
        "You can find a description of this dataset in [Pytorch-Geometric documentation](https://pytorch-geometric.readthedocs.io/en/latest/generated/torch_geometric.datasets.KarateClub.html#torch_geometric.datasets.KarateClub)."
      ],
      "metadata": {
        "id": "zgtfe7SWZvC9"
      }
    },
    {
      "cell_type": "code",
      "source": [
        "dataset = KarateClub()\n",
        "num_features = dataset.num_features\n",
        "num_classes = dataset.num_classes\n",
        "data_KarateClub = dataset[0]  # Get the first graph object.\n",
        "data_KarateClub"
      ],
      "metadata": {
        "colab": {
          "base_uri": "https://localhost:8080/"
        },
        "id": "TDW5eM7zL_dT",
        "outputId": "83a84e65-b5d2-4faf-96ca-6e768f75b9b8"
      },
      "execution_count": null,
      "outputs": [
        {
          "output_type": "execute_result",
          "data": {
            "text/plain": [
              "Data(x=[34, 34], edge_index=[2, 156], y=[34], train_mask=[34])"
            ]
          },
          "metadata": {},
          "execution_count": 25
        }
      ]
    },
    {
      "cell_type": "code",
      "source": [
        "print(f'Feature matrix data type: {data_KarateClub.x.dtype}')\n",
        "print(f'Edges list data type:     {data_KarateClub.edge_index.dtype}')\n",
        "print(f'Labels matrix data type:  {data_KarateClub.y.dtype}')"
      ],
      "metadata": {
        "colab": {
          "base_uri": "https://localhost:8080/"
        },
        "id": "06EvI1U1caVq",
        "outputId": "5a368561-4d74-4a11-e021-dfcf16b6b1fa"
      },
      "execution_count": null,
      "outputs": [
        {
          "output_type": "stream",
          "name": "stdout",
          "text": [
            "Feature matrix data type: torch.float32\n",
            "Edges list data type:     torch.int64\n",
            "Labels matrix data type:  torch.int64\n"
          ]
        }
      ]
    },
    {
      "cell_type": "markdown",
      "source": [
        "### GCN Layers from Pytorch-Geometric"
      ],
      "metadata": {
        "id": "_hW5xZyLaKWl"
      }
    },
    {
      "cell_type": "code",
      "execution_count": null,
      "metadata": {
        "id": "xeWvh8ZQbLZ-"
      },
      "outputs": [],
      "source": [
        "class GCN(torch.nn.Module):\n",
        "  def __init__(self, hidden_channels):\n",
        "    super().__init__()\n",
        "    self.conv1 = GCNConv(num_features, hidden_channels)\n",
        "    self.conv2 = GCNConv(hidden_channels, num_classes)\n",
        "\n",
        "  def forward(self, x, edge_index):\n",
        "    x = self.conv1(x, edge_index)\n",
        "    x = x.relu()\n",
        "    x = self.conv2(x, edge_index)\n",
        "    return x"
      ]
    },
    {
      "cell_type": "code",
      "execution_count": null,
      "metadata": {
        "colab": {
          "base_uri": "https://localhost:8080/"
        },
        "id": "UireDdpjbXng",
        "outputId": "f2d95eb6-6b3c-4c6c-8b77-0e0641678162"
      },
      "outputs": [
        {
          "output_type": "stream",
          "name": "stdout",
          "text": [
            "GCN(\n",
            "  (conv1): GCNConv(34, 16)\n",
            "  (conv2): GCNConv(16, 4)\n",
            ")\n"
          ]
        }
      ],
      "source": [
        "model = GCN(hidden_channels=16)\n",
        "optimizer = torch.optim.Adam(model.parameters(), lr=0.01)\n",
        "criterion = torch.nn.CrossEntropyLoss()\n",
        "print(model)"
      ]
    },
    {
      "cell_type": "code",
      "execution_count": null,
      "metadata": {
        "id": "kUT81dxycgBc"
      },
      "outputs": [],
      "source": [
        "def train(data, mask):\n",
        "      model.train()\n",
        "      optimizer.zero_grad()  # Clear gradients.\n",
        "      out = model(data.x, data.edge_index)  # Perform a single forward pass.\n",
        "      loss = criterion(out[mask], data.y[mask])  # Compute the loss solely based on the training nodes.\n",
        "      loss.backward()  # Derive gradients.\n",
        "      optimizer.step()  # Update parameters based on gradients.\n",
        "      return loss\n",
        "\n",
        "def test(data, mask):\n",
        "      model.eval()\n",
        "      out = model(data.x, data.edge_index)\n",
        "      pred = out.argmax(dim=1)  # Use the class with highest probability.\n",
        "      correct = pred[mask] == data.y[mask]  # Check against ground-truth labels.\n",
        "      acc = int(correct.sum()) / int(mask.sum())  # Derive ratio of correct predictions.\n",
        "      return acc"
      ]
    },
    {
      "cell_type": "markdown",
      "source": [
        "### GCN Training in Pytorch-Geometric"
      ],
      "metadata": {
        "id": "ILZyt3HzadfK"
      }
    },
    {
      "cell_type": "code",
      "execution_count": null,
      "metadata": {
        "colab": {
          "base_uri": "https://localhost:8080/",
          "height": 200
        },
        "id": "F2b0lLoScxJ7",
        "outputId": "360292ae-afbf-4634-ca5f-fe3970385851"
      },
      "outputs": [
        {
          "output_type": "display_data",
          "data": {
            "text/plain": [
              "<IPython.core.display.Javascript object>"
            ],
            "application/javascript": [
              "google.colab.output.setIframeHeight(0, true, {maxHeight: 300})"
            ]
          },
          "metadata": {}
        },
        {
          "output_type": "stream",
          "name": "stdout",
          "text": [
            "Epoch: 010, Train: 0.5000\n",
            "Epoch: 020, Train: 0.5000\n",
            "Epoch: 030, Train: 1.0000\n",
            "Epoch: 040, Train: 1.0000\n",
            "Epoch: 050, Train: 1.0000\n",
            "Epoch: 060, Train: 1.0000\n",
            "Epoch: 070, Train: 1.0000\n",
            "Epoch: 080, Train: 1.0000\n",
            "Epoch: 090, Train: 1.0000\n",
            "Epoch: 100, Train: 1.0000\n"
          ]
        }
      ],
      "source": [
        "display(Javascript('''google.colab.output.setIframeHeight(0, true, {maxHeight: 300})'''))\n",
        "\n",
        "for epoch in range(1, num_epochs):\n",
        "    loss = train(data_KarateClub, data_KarateClub.train_mask)\n",
        "    if epoch % 10 == 0:\n",
        "      train_acc = test(data_KarateClub, data_KarateClub.train_mask)\n",
        "      print(f'Epoch: {epoch:03d}, Train: {train_acc:.4f}')\n",
        "\n",
        "accuracy_list.append(['PyG', 'KarateClub', train_acc])"
      ]
    },
    {
      "cell_type": "markdown",
      "source": [
        "### Make Karate Club Dataset Compatible with Jraph"
      ],
      "metadata": {
        "id": "s5H3HNzeamx2"
      }
    },
    {
      "cell_type": "code",
      "execution_count": null,
      "metadata": {
        "id": "gsYvNgg67wmW"
      },
      "outputs": [],
      "source": [
        "graph = jraph.GraphsTuple(\n",
        "      n_node=jnp.asarray([data_KarateClub.x.shape[0]]),\n",
        "      n_edge=jnp.asarray([data_KarateClub.edge_index.shape[1]]),\n",
        "      # One-hot encoding for nodes, i.e. argmax(nodes) = node index.\n",
        "      nodes=jnp.eye(data_KarateClub.x.shape[0]),\n",
        "      # No edge features.\n",
        "      edges=None,\n",
        "      globals=None,\n",
        "      senders=jnp.asarray([data_KarateClub.edge_index[0,:]]).squeeze(),\n",
        "      receivers=jnp.asarray([data_KarateClub.edge_index[1,:]]).squeeze())\n",
        "\n",
        "graph_train_mask = jnp.asarray([data_KarateClub.train_mask]).squeeze()\n",
        "graph_labels = jnp.asarray([data_KarateClub.y]).squeeze()"
      ]
    },
    {
      "cell_type": "code",
      "execution_count": null,
      "metadata": {
        "colab": {
          "base_uri": "https://localhost:8080/"
        },
        "id": "wF_nz7qC87mb",
        "outputId": "1bfb571e-e850-444e-cec5-7f0b7c1755dd"
      },
      "outputs": [
        {
          "output_type": "stream",
          "name": "stdout",
          "text": [
            "Number of nodes: 34\n",
            "Number of edges: 156\n"
          ]
        }
      ],
      "source": [
        "print(f'Number of nodes: {graph.n_node[0]}')\n",
        "print(f'Number of edges: {graph.n_edge[0]}')"
      ]
    },
    {
      "cell_type": "code",
      "source": [
        "print(f'Feature matrix data type: {graph.nodes.dtype}')\n",
        "print(f'senders list data type:   {graph.senders.dtype}')\n",
        "print(f'receivers list data type: {graph.receivers.dtype}')\n",
        "print(f'Labels matrix data type:  {graph_labels.dtype}')"
      ],
      "metadata": {
        "colab": {
          "base_uri": "https://localhost:8080/"
        },
        "id": "cSP5xhahdCps",
        "outputId": "1bd930c5-1f28-4854-d138-4b7c3eba4e89"
      },
      "execution_count": null,
      "outputs": [
        {
          "output_type": "stream",
          "name": "stdout",
          "text": [
            "Feature matrix data type: float32\n",
            "senders list data type:   int32\n",
            "receivers list data type: int32\n",
            "Labels matrix data type:  int32\n"
          ]
        }
      ]
    },
    {
      "cell_type": "markdown",
      "source": [
        "### GCN Layers from Jraph"
      ],
      "metadata": {
        "id": "t1zUsCzKa0iq"
      }
    },
    {
      "cell_type": "code",
      "execution_count": null,
      "metadata": {
        "id": "_BwsD4YZgnOu"
      },
      "outputs": [],
      "source": [
        "def gcn(graph: jraph.GraphsTuple) -> jraph.GraphsTuple:\n",
        "  \"\"\"Defines a GCN for the karate club task.\n",
        "  Args:\n",
        "    graph: GraphsTuple the network processes.\n",
        "\n",
        "  Returns:\n",
        "    output graph with updated node values.\n",
        "  \"\"\"\n",
        "  gn = jraph.GraphConvolution(update_node_fn=hk.Linear(num_features))\n",
        "  graph = gn(graph)\n",
        "\n",
        "  gn = jraph.GraphConvolution(\n",
        "      update_node_fn=lambda n: jax.nn.relu(hk.Linear(16)(n)),\n",
        "      add_self_edges=True)\n",
        "  graph = gn(graph)\n",
        "\n",
        "  gn = jraph.GraphConvolution(update_node_fn=hk.Linear(num_classes))\n",
        "  graph = gn(graph)\n",
        "  return graph"
      ]
    },
    {
      "cell_type": "code",
      "execution_count": null,
      "metadata": {
        "id": "xMomiTaa9Cg1"
      },
      "outputs": [],
      "source": [
        "def optimize_graph(network: hk.Transformed, num_steps: int) -> jnp.ndarray:\n",
        "  labels = graph_labels\n",
        "  params = network.init(jax.random.PRNGKey(random_seed), graph)\n",
        "\n",
        "  @jax.jit\n",
        "  def predict(params: hk.Params) -> jnp.ndarray:\n",
        "    decoded_graph = network.apply(params, graph)\n",
        "    return jnp.argmax(decoded_graph.nodes, axis=1)\n",
        "\n",
        "  @jax.jit\n",
        "  def prediction_loss(params: hk.Params) -> jnp.ndarray:\n",
        "    decoded_graph = network.apply(params, graph)\n",
        "    logits = decoded_graph.nodes[graph_train_mask]\n",
        "    one_hot_labels = jax.nn.one_hot(labels[graph_train_mask], num_classes)\n",
        "    loss = jnp.sum(optax.softmax_cross_entropy(logits, one_hot_labels))\n",
        "    return loss\n",
        "\n",
        "  opt_init, opt_update = optax.adam(0.01)\n",
        "  opt_state = opt_init(params)\n",
        "\n",
        "  @jax.jit\n",
        "  def update(params: hk.Params, opt_state) -> Tuple[hk.Params, Any]:\n",
        "    \"\"\"Returns updated params and state.\"\"\"\n",
        "    g = jax.grad(prediction_loss)(params)\n",
        "    updates, opt_state = opt_update(g, opt_state)\n",
        "    return optax.apply_updates(params, updates), opt_state\n",
        "\n",
        "  # @jax.jit\n",
        "  def accuracy(params: hk.Params, mask) -> jnp.ndarray:\n",
        "    decoded_graph = network.apply(params, graph)\n",
        "    correct = jnp.argmax(decoded_graph.nodes[mask], axis=1) == labels[mask]  # Check against ground-truth labels.\n",
        "    acc = int(correct.sum()) / int(mask.sum())  # Derive ratio of correct predictions.\n",
        "    return acc #jnp.mean(jnp.argmax(decoded_graph.nodes[mask], axis=1) == labels[mask])\n",
        "\n",
        "  for step in range(num_steps):\n",
        "    if step % 10 == 0:\n",
        "      print(f'step: {step:03d}, Train: {accuracy(params, graph_train_mask):.4f}')\n",
        "    params, opt_state = update(params, opt_state)\n",
        "\n",
        "  return params, predict(params), accuracy(params, graph_train_mask)"
      ]
    },
    {
      "cell_type": "markdown",
      "source": [
        "### GCN Training in Jraph"
      ],
      "metadata": {
        "id": "NUveSVkma6cK"
      }
    },
    {
      "cell_type": "code",
      "execution_count": null,
      "metadata": {
        "colab": {
          "base_uri": "https://localhost:8080/",
          "height": 218
        },
        "id": "IaCV4oiZ-BzY",
        "outputId": "7a3d5ca7-6375-46fc-8d55-8d82be2de2ab"
      },
      "outputs": [
        {
          "output_type": "display_data",
          "data": {
            "text/plain": [
              "<IPython.core.display.Javascript object>"
            ],
            "application/javascript": [
              "google.colab.output.setIframeHeight(0, true, {maxHeight: 300})"
            ]
          },
          "metadata": {}
        },
        {
          "output_type": "stream",
          "name": "stdout",
          "text": [
            "step: 000, Train: 0.2500\n",
            "step: 010, Train: 0.2500\n",
            "step: 020, Train: 1.0000\n",
            "step: 030, Train: 1.0000\n",
            "step: 040, Train: 1.0000\n",
            "step: 050, Train: 1.0000\n",
            "step: 060, Train: 1.0000\n",
            "step: 070, Train: 1.0000\n",
            "step: 080, Train: 1.0000\n",
            "step: 090, Train: 1.0000\n",
            "step: 100, Train: 1.0000\n"
          ]
        }
      ],
      "source": [
        "display(Javascript('''google.colab.output.setIframeHeight(0, true, {maxHeight: 300})'''))\n",
        "\n",
        "network = hk.without_apply_rng(hk.transform(gcn))\n",
        "graph_params, result, train_acc = optimize_graph(network, num_steps=num_epochs)\n",
        "accuracy_list.append(['jraph', 'KarateClub', train_acc])"
      ]
    },
    {
      "cell_type": "markdown",
      "source": [
        "## CORA Dataset\n",
        "You can find a description of this dataset in [Pytorch-Geometric documentation](https://pytorch-geometric.readthedocs.io/en/latest/generated/torch_geometric.datasets.Planetoid.html#torch_geometric.datasets.Planetoid)."
      ],
      "metadata": {
        "id": "rlS9jbvxbCle"
      }
    },
    {
      "cell_type": "code",
      "execution_count": null,
      "metadata": {
        "colab": {
          "base_uri": "https://localhost:8080/"
        },
        "id": "Pk_LNyDV7Z4F",
        "outputId": "bbcd925c-d02a-4733-8c03-9cf48b1789d1"
      },
      "outputs": [
        {
          "output_type": "execute_result",
          "data": {
            "text/plain": [
              "Data(x=[2708, 1433], edge_index=[2, 10556], y=[2708], train_mask=[2708], val_mask=[2708], test_mask=[2708])"
            ]
          },
          "metadata": {},
          "execution_count": 35
        }
      ],
      "source": [
        "dataset = Planetoid(root='data/Planetoid', name='Cora', transform=NormalizeFeatures())\n",
        "num_features = dataset.num_features\n",
        "num_classes = dataset.num_classes\n",
        "data_Cora = dataset[0]  # Get the first graph object.\n",
        "data_Cora"
      ]
    },
    {
      "cell_type": "markdown",
      "source": [
        "### GCN Training in Pytorch-Geometric"
      ],
      "metadata": {
        "id": "81b61QGIbbEG"
      }
    },
    {
      "cell_type": "code",
      "execution_count": null,
      "metadata": {
        "colab": {
          "base_uri": "https://localhost:8080/",
          "height": 200
        },
        "id": "XgmM9K2q7z7G",
        "outputId": "19bf87fe-c82d-4b29-8c4d-200fddbc4ae7"
      },
      "outputs": [
        {
          "output_type": "display_data",
          "data": {
            "text/plain": [
              "<IPython.core.display.Javascript object>"
            ],
            "application/javascript": [
              "google.colab.output.setIframeHeight(0, true, {maxHeight: 300})"
            ]
          },
          "metadata": {}
        },
        {
          "output_type": "stream",
          "name": "stdout",
          "text": [
            "Epoch: 010, Train: 0.8786\n",
            "Epoch: 020, Train: 0.9571\n",
            "Epoch: 030, Train: 0.9571\n",
            "Epoch: 040, Train: 0.9714\n",
            "Epoch: 050, Train: 0.9857\n",
            "Epoch: 060, Train: 0.9857\n",
            "Epoch: 070, Train: 0.9929\n",
            "Epoch: 080, Train: 1.0000\n",
            "Epoch: 090, Train: 1.0000\n",
            "Epoch: 100, Train: 1.0000\n"
          ]
        }
      ],
      "source": [
        "model = GCN(hidden_channels=16)\n",
        "optimizer = torch.optim.Adam(model.parameters(), lr=0.01)\n",
        "criterion = torch.nn.CrossEntropyLoss()\n",
        "\n",
        "display(Javascript('''google.colab.output.setIframeHeight(0, true, {maxHeight: 300})'''))\n",
        "\n",
        "for epoch in range(1, num_epochs):\n",
        "    loss = train(data_Cora, data_Cora.train_mask)\n",
        "    if epoch % 10 == 0:\n",
        "      train_acc = test(data_Cora, data_Cora.train_mask)\n",
        "      val_acc = test(data_Cora, data_Cora.val_mask)\n",
        "      test_acc = test(data_Cora, data_Cora.test_mask)\n",
        "      print(f'Epoch: {epoch:03d}, Train: {train_acc:.4f}')\n",
        "\n",
        "accuracy_list.append(['PyG', 'Cora', train_acc])"
      ]
    },
    {
      "cell_type": "markdown",
      "source": [
        "### Make CORA Dataset Compatible with Jraph"
      ],
      "metadata": {
        "id": "LflutyGrbgMr"
      }
    },
    {
      "cell_type": "code",
      "execution_count": null,
      "metadata": {
        "id": "KtnPnUQO8KHw"
      },
      "outputs": [],
      "source": [
        "graph = jraph.GraphsTuple(\n",
        "      n_node=jnp.asarray([data_Cora.x.shape[0]]),\n",
        "      n_edge=jnp.asarray([data_Cora.edge_index.shape[1]]),\n",
        "      # One-hot encoding for nodes, i.e. argmax(nodes) = node index.\n",
        "      nodes=jnp.eye(data_Cora.x.shape[0]),\n",
        "      # No edge features.\n",
        "      edges=None,\n",
        "      globals=None,\n",
        "      senders=jnp.asarray([data_Cora.edge_index[0,:]]).squeeze(),\n",
        "      receivers=jnp.asarray([data_Cora.edge_index[1,:]]).squeeze())\n",
        "\n",
        "graph_train_mask = jnp.asarray([data_Cora.train_mask]).squeeze()\n",
        "graph_val_mask = jnp.asarray([data_Cora.val_mask]).squeeze()\n",
        "graph_test_mask = jnp.asarray([data_Cora.test_mask]).squeeze()\n",
        "graph_labels = jnp.asarray([data_Cora.y]).squeeze()"
      ]
    },
    {
      "cell_type": "markdown",
      "source": [
        "### GCN Training in Jraph"
      ],
      "metadata": {
        "id": "sPX3WHwNblYk"
      }
    },
    {
      "cell_type": "code",
      "execution_count": null,
      "metadata": {
        "id": "9o4JKTCs8ZU8",
        "colab": {
          "base_uri": "https://localhost:8080/",
          "height": 218
        },
        "outputId": "9d17568e-c442-4395-c685-cd82be4be7b4"
      },
      "outputs": [
        {
          "output_type": "display_data",
          "data": {
            "text/plain": [
              "<IPython.core.display.Javascript object>"
            ],
            "application/javascript": [
              "google.colab.output.setIframeHeight(0, true, {maxHeight: 300})"
            ]
          },
          "metadata": {}
        },
        {
          "output_type": "stream",
          "name": "stdout",
          "text": [
            "step: 000, Train: 0.1071\n",
            "step: 010, Train: 0.9929\n",
            "step: 020, Train: 1.0000\n",
            "step: 030, Train: 1.0000\n",
            "step: 040, Train: 1.0000\n",
            "step: 050, Train: 1.0000\n",
            "step: 060, Train: 1.0000\n",
            "step: 070, Train: 1.0000\n",
            "step: 080, Train: 1.0000\n",
            "step: 090, Train: 1.0000\n",
            "step: 100, Train: 1.0000\n"
          ]
        }
      ],
      "source": [
        "display(Javascript('''google.colab.output.setIframeHeight(0, true, {maxHeight: 300})'''))\n",
        "\n",
        "network = hk.without_apply_rng(hk.transform(gcn))\n",
        "graph_params, result, train_acc = optimize_graph(network, num_steps=num_epochs)\n",
        "accuracy_list.append(['jraph', 'Cora', train_acc])"
      ]
    },
    {
      "cell_type": "markdown",
      "source": [
        "## Plot Training Accuracy"
      ],
      "metadata": {
        "id": "nkZp3xfobnoK"
      }
    },
    {
      "cell_type": "code",
      "execution_count": null,
      "metadata": {
        "id": "lUjM7mmc-j13",
        "colab": {
          "base_uri": "https://localhost:8080/",
          "height": 449
        },
        "outputId": "bae1a8a2-44fb-4b31-d01d-95e7b9f125e1"
      },
      "outputs": [
        {
          "output_type": "display_data",
          "data": {
            "text/plain": [
              "<Figure size 640x480 with 1 Axes>"
            ],
            "image/png": "[encoded data removed]"
          },
          "metadata": {}
        }
      ],
      "source": [
        "df = pd.DataFrame(accuracy_list, columns=('Method', 'Dataset', 'Train Accuracy'))\n",
        "sns.barplot(df,x='Dataset', y='Train Accuracy', hue='Method', palette=\"muted\")\n",
        "plt.show()"
      ]
    },
    {
      "cell_type": "markdown",
      "source": [
        "## Checking Test Accuracy"
      ],
      "metadata": {
        "id": "yYIpPkv1bsVM"
      }
    },
    {
      "cell_type": "code",
      "source": [
        "test_acc = test(data_Cora, data_Cora.test_mask)\n",
        "test_acc"
      ],
      "metadata": {
        "colab": {
          "base_uri": "https://localhost:8080/"
        },
        "id": "914U_o9wPufS",
        "outputId": "f13f5898-4a7e-4b84-fecb-6741e757d046"
      },
      "execution_count": null,
      "outputs": [
        {
          "output_type": "execute_result",
          "data": {
            "text/plain": [
              "0.782"
            ]
          },
          "metadata": {},
          "execution_count": 40
        }
      ]
    },
    {
      "cell_type": "code",
      "source": [
        "decoded_graph = network.apply(graph_params, graph)\n",
        "correct = jnp.argmax(decoded_graph.nodes[graph_test_mask], axis=1) == graph_labels[graph_test_mask]  # Check against ground-truth labels.\n",
        "acc = int(correct.sum()) / int(graph_test_mask.sum())  # Derive ratio of correct predictions.\n",
        "acc"
      ],
      "metadata": {
        "colab": {
          "base_uri": "https://localhost:8080/"
        },
        "id": "nzRDXUkrP4_n",
        "outputId": "a8000891-1d96-4acf-dc6e-467c321c5df0"
      },
      "execution_count": null,
      "outputs": [
        {
          "output_type": "execute_result",
          "data": {
            "text/plain": [
              "0.728"
            ]
          },
          "metadata": {},
          "execution_count": 41
        }
      ]
    }
  ],
  "metadata": {
    "colab": {
      "provenance": [],
      "authorship_tag": "ABX9TyMtniVoRvZNN06xTWZZDUMU",
      "include_colab_link": true
    },
    "kernelspec": {
      "display_name": "Python 3",
      "name": "python3"
    },
    "language_info": {
      "name": "python"
    }
  },
  "nbformat": 4,
  "nbformat_minor": 0
}